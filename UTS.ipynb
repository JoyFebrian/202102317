{
 "cells": [
  {
   "cell_type": "code",
   "execution_count": 2,
   "id": "99a0c76c",
   "metadata": {},
   "outputs": [
    {
     "name": "stdout",
     "output_type": "stream",
     "text": [
      "                        Commanditaire Vennootschap\n",
      "=====================================================================\n",
      "Data Pribadi\n",
      " \n",
      "Nama                  : Joy Febrian Wijaya\n",
      "Jenis Kelamin         : Laki-laki\n",
      "Tempat Tanggal Lahir  : Sanggu Ledo, 23-04-2003\n",
      "Kesehatan             : Sangat Baik\n",
      "Kewarganegaraan       : Indonesia\n",
      "Status Perkawinan     : Belum Menikah\n",
      "Agama                 : Kristen\n",
      "Alamat Lengkap        : Planet Mars,\n",
      "       RT/RW          : 1.025957 d, 24ʰ 37ᵐ 22.7ˢ\n",
      "       Kel/Desa       : Red Planet\n",
      "       Kecamatan      : 0.636 (0.4–0.87) kPa, 0.00628 atm\n",
      "Nomor Telepon         : 0812 3456 7890\n",
      " \n",
      "=====================================================================\n",
      "PENDIDIKAN FORMAL\n",
      " \n",
      "2008 - 2014           : SD N 02 Sanggau Ledo\n",
      "2014 - 2017           : SMP N 01 Sanggau Ledo\n",
      "2017 - 2020           : SMANSA Sanggau Ledo\n",
      "PENDIDIKAN NON FORMAL\n",
      "2003 - 2021           : -\n",
      " \n",
      "=====================================================================\n",
      "Organisasi/Ekstrakurikuler\n",
      " \n",
      "Komunitas Semangat Hidup Walau Tak Berguna International\n",
      " \n",
      "=====================================================================\n",
      "PENGALAMAN KERJA\n",
      " \n",
      "2020 - 2021           : Mencarikan Orang Lain Pekerjaan\n",
      " \n",
      "=====================================================================\n",
      "PRESTASI\n",
      " \n",
      "Sukses membuat malu orang tua,\n",
      "Sukses menjadi omongan tetangga\n",
      "Juara 1 Liga Begadang Antar Kota KALBAR\n",
      "Juara 1 Menahan luka melihat mantan bahagia\n",
      "Juara 1 Lari dari kenyataan\n",
      " \n",
      "=====================================================================\n",
      "Demikian Ini Daftar Riwayat Hidup saya buat dengan sedikit bercanda.\n",
      " \n",
      "Pontianak 21 Sep 2021\n",
      " \n",
      "Hormat saya,\n",
      "\n",
      "\n",
      "\n",
      "Joy Febrian Wijaya\n"
     ]
    }
   ],
   "source": [
    "surat = \"Commanditaire Vennootschap\"\n",
    "judul_1 =\"Data Pribadi\"\n",
    "Nama = \"Joy Febrian Wijaya\"\n",
    "Jenis_Kelamin = \"Laki-laki\"\n",
    "Tempat_Tanggal_Lahir = \"Sanggu Ledo, 23-04-2003\"\n",
    "Kesehatan = \"Sangat Baik\"\n",
    "Kewarganegaraan = \"Indonesia\"\n",
    "Status_Perkawinan = \"Belum Menikah\"\n",
    "Agama = \"Kristen\"\n",
    "Alamat_Lengkap = \"\"\"Planet Mars,\n",
    "       RT/RW          : 1.025957 d, 24ʰ 37ᵐ 22.7ˢ\n",
    "       Kel/Desa       : Red Planet\n",
    "       Kecamatan      : 0.636 (0.4–0.87) kPa, 0.00628 atm\"\"\"\n",
    "Nomor_Telepon = \"0812 3456 7890\"\n",
    "judul_2 = \"PENDIDIKAN FORMAL\"\n",
    "SD = \"SD N 02 Sanggau Ledo\"\n",
    "SMP = \"SMP N 01 Sanggau Ledo\"\n",
    "SMA = \"SMANSA Sanggau Ledo\"\n",
    "judul_3 = \"PENDIDIKAN NON FORMAL\"\n",
    "PENDIDIKAN_NON_FORMAL = \"-\"\n",
    "judul_4 = \"Organisasi/Ekstrakurikuler\"\n",
    "ORGANISASI = \"Komunitas Semangat Hidup Walau Tak Berguna International\"\n",
    "judul_5 = \"PENGALAMAN KERJA\"\n",
    "PENGALAMAN_KERJA = \"Mencarikan Orang Lain Pekerjaan\"\n",
    "judul_6 = \"PRESTASI\"\n",
    "PRESTASI = \"\"\"Sukses membuat malu orang tua,\n",
    "Sukses menjadi omongan tetangga\n",
    "Juara 1 Liga Begadang Antar Kota KALBAR\n",
    "Juara 1 Menahan luka melihat mantan bahagia\n",
    "Juara 1 Lari dari kenyataan\"\"\"\n",
    "Penutup = \"Demikian Ini Daftar Riwayat Hidup saya buat dengan sedikit bercanda.\"\n",
    "Tempat_Tanggal_Pembuatan = \"Pontianak 21 Sep 2021\"\n",
    "TTD = \"\"\"Hormat saya,\n",
    "\n",
    "\n",
    "\n",
    "Joy Febrian Wijaya\"\"\"\n",
    "#cetak\n",
    "print('{:>50}'.format(surat))\n",
    "print(\"=====================================================================\")\n",
    "print (judul_1)\n",
    "print (\" \")\n",
    "print(\"Nama                  :\", Nama)\n",
    "print(\"Jenis Kelamin         :\",Jenis_Kelamin)\n",
    "print(\"Tempat Tanggal Lahir  :\",Tempat_Tanggal_Lahir)\n",
    "print(\"Kesehatan             :\", Kesehatan)\n",
    "print(\"Kewarganegaraan       :\", Kewarganegaraan)\n",
    "print(\"Status Perkawinan     :\", Status_Perkawinan)\n",
    "print(\"Agama                 :\",  Agama)\n",
    "print(\"Alamat Lengkap        :\", Alamat_Lengkap)\n",
    "print(\"Nomor Telepon         :\", Nomor_Telepon)\n",
    "print (\" \")\n",
    "print(\"=====================================================================\")\n",
    "print (judul_2)\n",
    "print (\" \")\n",
    "print(\"2008 - 2014           :\", SD)\n",
    "print(\"2014 - 2017           :\",SMP)\n",
    "print(\"2017 - 2020           :\",SMA)\n",
    "print (judul_3)\n",
    "print(\"2003 - 2021           :\",  PENDIDIKAN_NON_FORMAL)\n",
    "print (\" \")\n",
    "print(\"=====================================================================\")\n",
    "print (judul_4)\n",
    "print (\" \")\n",
    "print(ORGANISASI)\n",
    "print (\" \")\n",
    "print(\"=====================================================================\")\n",
    "print (judul_5)\n",
    "print (\" \")\n",
    "print(\"2020 - 2021           :\", PENGALAMAN_KERJA)\n",
    "print (\" \")\n",
    "print(\"=====================================================================\")\n",
    "print (judul_6)\n",
    "print (\" \")\n",
    "print(PRESTASI)\n",
    "print (\" \")\n",
    "print(\"=====================================================================\")\n",
    "print (Penutup)\n",
    "print (\" \")\n",
    "print (Tempat_Tanggal_Pembuatan)\n",
    "print (\" \")\n",
    "print (TTD)"
   ]
  },
  {
   "cell_type": "code",
   "execution_count": 3,
   "id": "61d818c9",
   "metadata": {},
   "outputs": [
    {
     "name": "stdout",
     "output_type": "stream",
     "text": [
      "Lebar :3\n",
      "Panjang : 4\n",
      "Luas Persegi Panjang :  12\n"
     ]
    }
   ],
   "source": [
    "lebar  = int(input(\"Lebar :\"))\n",
    "panjang = int(input(\"Panjang : \"))\n",
    "\n",
    "luas = panjang*lebar\n",
    "\n",
    "print (\"Luas Persegi Panjang  : \",luas)"
   ]
  },
  {
   "cell_type": "code",
   "execution_count": 7,
   "id": "b78e4306",
   "metadata": {},
   "outputs": [
    {
     "name": "stdout",
     "output_type": "stream",
     "text": [
      "Celcius : 23\n",
      "Celcius    :  23\n",
      "Reamur     :  18.400000000000002\n",
      "Fahrenheit :  73.4\n"
     ]
    }
   ],
   "source": [
    "celcius = int(input(\"Celcius : \"))\n",
    "reamur = celcius*0.8\n",
    "fahrenheit = celcius*1.8 + 32\n",
    "    \n",
    "print(\"Celcius    : \",celcius)\n",
    "\n",
    "print(\"Reamur     : \",reamur)\n",
    "\n",
    "print(\"Fahrenheit : \",fahrenheit)"
   ]
  },
  {
   "cell_type": "code",
   "execution_count": 12,
   "id": "4a7e8cee",
   "metadata": {},
   "outputs": [
    {
     "name": "stdout",
     "output_type": "stream",
     "text": [
      "Masukkan Jumlah Detik :1234\n",
      "Hari  :  0\n",
      "Jam   :  0\n",
      "Menit :  21\n",
      "Detik :  34\n"
     ]
    }
   ],
   "source": [
    "detik = int(input(\"Masukkan Jumlah Detik :\"))\n",
    "\n",
    "hari = detik/86400\n",
    "temp1 = detik%86400\n",
    "jam = temp1/3600\n",
    "temp2 = temp1%3600\n",
    "menit = temp2/60\n",
    "detik = temp2%60\n",
    "\n",
    "print (\"Hari  : \",round(hari))\n",
    "print (\"Jam   : \",round(jam))\n",
    "print (\"Menit : \",round(menit))\n",
    "print (\"Detik : \",round(detik))"
   ]
  },
  {
   "cell_type": "code",
   "execution_count": 13,
   "id": "059fed48",
   "metadata": {},
   "outputs": [
    {
     "name": "stdout",
     "output_type": "stream",
     "text": [
      "Panjang jari-jari :33\n",
      "Luas Lingkaran : 3422.5714285714284\n"
     ]
    }
   ],
   "source": [
    "jari = int(input(\"Panjang jari-jari :\"))\n",
    "phi = 22/7\n",
    "luas = float(phi*jari**2)\n",
    "\n",
    "print (\"Luas Lingkaran :\", luas)"
   ]
  },
  {
   "cell_type": "code",
   "execution_count": null,
   "id": "27179f91",
   "metadata": {},
   "outputs": [],
   "source": []
  }
 ],
 "metadata": {
  "kernelspec": {
   "display_name": "Python 3",
   "language": "python",
   "name": "python3"
  },
  "language_info": {
   "codemirror_mode": {
    "name": "ipython",
    "version": 3
   },
   "file_extension": ".py",
   "mimetype": "text/x-python",
   "name": "python",
   "nbconvert_exporter": "python",
   "pygments_lexer": "ipython3",
   "version": "3.8.8"
  }
 },
 "nbformat": 4,
 "nbformat_minor": 5
}
